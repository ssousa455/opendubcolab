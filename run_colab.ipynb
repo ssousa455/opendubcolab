{
 "cells": [
  {
   "cell_type": "code",
   "execution_count": null,
   "id": "305e0a9e",
   "metadata": {
    "vscode": {
     "languageId": "plaintext"
    }
   },
   "outputs": [],
   "source": [
    "!wget https://raw.githubusercontent.com/ssousa455/opendubcolab/main/run_colab.py\n",
    "!python run_colab.py"
   ]
  }
 ],
 "metadata": {
  "language_info": {
   "name": "python"
  }
 },
 "nbformat": 4,
 "nbformat_minor": 5
}
